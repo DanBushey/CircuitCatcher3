{
 "cells": [
  {
   "cell_type": "code",
   "execution_count": 12,
   "metadata": {},
   "outputs": [],
   "source": [
    "#get the path to the folders for each entery in the Summary.xlsx file\n",
    "import pandas as pd\n",
    "from pathlib import Path\n",
    "import numpy as np\n",
    "import ccModules3 as cc3"
   ]
  },
  {
   "cell_type": "code",
   "execution_count": 13,
   "metadata": {},
   "outputs": [],
   "source": [
    "parameters_file = 'Project_info.ods'"
   ]
  },
  {
   "cell_type": "code",
   "execution_count": 14,
   "metadata": {},
   "outputs": [
    {
     "name": "stdout",
     "output_type": "stream",
     "text": [
      "/media/bushey/202010/JData/C/C07/C07_Data1\n"
     ]
    }
   ],
   "source": [
    "target_folder = Path.cwd().parent\n",
    "print(target_folder)"
   ]
  },
  {
   "cell_type": "code",
   "execution_count": 15,
   "metadata": {},
   "outputs": [],
   "source": [
    "parameters = cc3.read_spread( str(target_folder / parameters_file), index_col=0, header=0)"
   ]
  },
  {
   "cell_type": "code",
   "execution_count": 16,
   "metadata": {},
   "outputs": [],
   "source": [
    "#find all directories\n",
    "paths = [i for i in target_folder.glob('**/*') if i.is_dir()]\n",
    "#create a dictionary with folder : path\n",
    "folders = {}\n",
    "for cpath in paths:\n",
    "    folders[cpath.parts[-1]] = str(cpath)\n",
    "folders = pd.DataFrame(folders, index=['Path']).T.reset_index()"
   ]
  },
  {
   "cell_type": "code",
   "execution_count": 17,
   "metadata": {},
   "outputs": [],
   "source": [
    "#get spreadsheet summarizing experiments\n",
    "output = str(target_folder / parameters['File'].loc['Compiled Experiments'])\n",
    "experi = cc3.read_spread(output, header=0)"
   ]
  },
  {
   "cell_type": "code",
   "execution_count": 18,
   "metadata": {},
   "outputs": [],
   "source": [
    "#match paths to experiments\n",
    "data ={}\n",
    "\n",
    "for row, dseries in experi.iterrows():\n",
    "    data[row] = folders[folders['index'].str.contains(dseries['Sample Name'])]['Path'].values[0]\n",
    "experi['path'] = pd.Series(data)"
   ]
  },
  {
   "cell_type": "code",
   "execution_count": 19,
   "metadata": {},
   "outputs": [],
   "source": [
    "cc3.write_spread(experi, output, index=False)"
   ]
  },
  {
   "cell_type": "code",
   "execution_count": null,
   "metadata": {},
   "outputs": [],
   "source": []
  }
 ],
 "metadata": {
  "kernelspec": {
   "display_name": "Python 3 (ipykernel)",
   "language": "python",
   "name": "python3"
  },
  "language_info": {
   "codemirror_mode": {
    "name": "ipython",
    "version": 3
   },
   "file_extension": ".py",
   "mimetype": "text/x-python",
   "name": "python",
   "nbconvert_exporter": "python",
   "pygments_lexer": "ipython3",
   "version": "3.10.4"
  }
 },
 "nbformat": 4,
 "nbformat_minor": 4
}
